{
 "cells": [
  {
   "cell_type": "code",
   "execution_count": 1,
   "metadata": {},
   "outputs": [],
   "source": [
    "import torch\n",
    "import torchvision.transforms as transforms\n",
    "from mobilenetv3 import *\n",
    "\n",
    "from PIL import Image\n",
    "import os"
   ]
  },
  {
   "cell_type": "code",
   "execution_count": 2,
   "metadata": {},
   "outputs": [],
   "source": [
    "model = mobilenetv3(mode='large', n_class=2)\n",
    "state_dict = torch.load('./weights/mobilenetv3_30.pkl')\n",
    "model.load_state_dict(state_dict)\n",
    "model.eval()\n",
    "\n",
    "trans = transforms.Compose([\n",
    "        transforms.Resize(int(224/0.875)),\n",
    "        transforms.CenterCrop(224),\n",
    "        transforms.ToTensor(),\n",
    "        transforms.Normalize(mean=[0.485, 0.456, 0.406],\n",
    "                             std=[0.229, 0.224, 0.225]),\n",
    "        ])"
   ]
  },
  {
   "cell_type": "code",
   "execution_count": 3,
   "metadata": {},
   "outputs": [],
   "source": [
    "def test(path_test):\n",
    "    img = Image.open(path_test)\n",
    "    img = trans(img)\n",
    "    img = torch.unsqueeze(img, 0)\n",
    "    #img = img.cuda()\n",
    "\n",
    "    with torch.no_grad():\n",
    "        out = model(img)\n",
    "        #_, max_index = torch.max(out, 1)\n",
    "        print(out)"
   ]
  },
  {
   "cell_type": "code",
   "execution_count": 7,
   "metadata": {},
   "outputs": [],
   "source": [
    "path1 = \"./valdir/pointer/000650_1.jpg\"\n",
    "path2 = \"./valdir/pointer/000650_2.jpg\"\n",
    "path3 = \"./valdir/greenlight/000771_4.jpg\"\n",
    "path4 = \"./valdir/greenlight/000844_3.jpg\""
   ]
  },
  {
   "cell_type": "code",
   "execution_count": 8,
   "metadata": {},
   "outputs": [
    {
     "name": "stdout",
     "output_type": "stream",
     "text": [
      "tensor([[-6.4641,  6.1145]])\n",
      "tensor([[-10.4175,   9.7521]])\n",
      "tensor([[ 5.6226, -5.5151]])\n",
      "tensor([[ 7.5515, -7.4701]])\n"
     ]
    }
   ],
   "source": [
    "test(path1)\n",
    "test(path2)\n",
    "test(path3)\n",
    "test(path4)"
   ]
  },
  {
   "cell_type": "code",
   "execution_count": null,
   "metadata": {},
   "outputs": [],
   "source": []
  },
  {
   "cell_type": "code",
   "execution_count": null,
   "metadata": {},
   "outputs": [],
   "source": []
  }
 ],
 "metadata": {
  "kernelspec": {
   "display_name": "Python 3",
   "language": "python",
   "name": "python3"
  },
  "language_info": {
   "codemirror_mode": {
    "name": "ipython",
    "version": 3
   },
   "file_extension": ".py",
   "mimetype": "text/x-python",
   "name": "python",
   "nbconvert_exporter": "python",
   "pygments_lexer": "ipython3",
   "version": "3.6.8"
  }
 },
 "nbformat": 4,
 "nbformat_minor": 4
}
